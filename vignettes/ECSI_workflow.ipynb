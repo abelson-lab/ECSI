{
 "cells": [
  {
   "cell_type": "raw",
   "metadata": {},
   "source": [
    "---\n",
    "title: \"ECSI Workflow\"\n",
    "author: \"Andy Zeng\"\n",
    "output: html_notebook\n",
    "---"
   ]
  },
  {
   "cell_type": "markdown",
   "metadata": {},
   "source": [
    "# ECSI Example Workflow "
   ]
  },
  {
   "cell_type": "code",
   "execution_count": 1,
   "metadata": {
    "lines_to_next_cell": 2
   },
   "outputs": [
    {
     "ename": "ERROR",
     "evalue": "Error in library(VariantAnnotation): there is no package called ‘VariantAnnotation’\n",
     "output_type": "error",
     "traceback": [
      "Error in library(VariantAnnotation): there is no package called ‘VariantAnnotation’\nTraceback:\n",
      "1. library(VariantAnnotation)",
      "2. stop(txt, domain = NA)"
     ]
    }
   ],
   "source": [
    "# Load required packages\n",
    "library(VariantAnnotation)\n",
    "library(doParallel)\n",
    "library(magrittr)\n",
    "library(ECSI)\n",
    "\n",
    "# load MAF annotation - gnomAD exome for hg19\n",
    "library(MafDb.gnomADex.r2.1.hs37d5)"
   ]
  },
  {
   "cell_type": "markdown",
   "metadata": {},
   "source": [
    "## Pre-Processing"
   ]
  },
  {
   "cell_type": "markdown",
   "metadata": {},
   "source": [
    "### Get Sample Files\n",
    "\n",
    "These files are VarScan pileup2cns outputs with information on allele counts for every position that passed a certain depth."
   ]
  },
  {
   "cell_type": "code",
   "execution_count": 3,
   "metadata": {
    "lines_to_next_cell": 0
   },
   "outputs": [
    {
     "name": "stdout",
     "output_type": "stream",
     "text": [
      "First 5 Sample Paths: \n",
      " ./rawdata/F1_EPIC_0001_pileup2cnsINFO_allPositions ./rawdata/F1_EPIC_0002_pileup2cnsINFO_allPositions ./rawdata/F1_EPIC_0003_pileup2cnsINFO_allPositions ./rawdata/F1_EPIC_0004_pileup2cnsINFO_allPositions ./rawdata/F1_EPIC_0005_pileup2cnsINFO_allPositions ./rawdata/F1_EPIC_0006_pileup2cnsINFO_allPositions\n",
      "\n",
      "First 5 Sample Names: \n",
      " EPIC_0001 EPIC_0002 EPIC_0003 EPIC_0004 EPIC_0005 EPIC_0006"
     ]
    }
   ],
   "source": [
    "dir=\"./rawdata/\"\n",
    "files=list.files(dir,pattern = \"F1\")[1:39]\n",
    "\n",
    "sample_paths <- paste0(dir, files)\n",
    "cat(\"First 5 Sample Paths: \\n\", head(sample_paths))\n",
    "\n",
    "\n",
    "sample_names <- substr(files,4,12)\n",
    "cat(\"\\n\\nFirst 5 Sample Names: \\n\", head(sample_names))"
   ]
  },
  {
   "cell_type": "markdown",
   "metadata": {},
   "source": [
    "### Get cosmic mutations \n",
    "\n",
    "Included with this package are hematologic cancer associated mutations identified through COSMIC. \n",
    "Critically, the last column (named \"hemCOSMIC_DC\") has the frequency of each mutation within the database - this is what we use for filtering. \n",
    "\n",
    "For mutations associated with other cancers, please visit the [COSMIC website](https://cancer.sanger.ac.uk/cosmic)"
   ]
  },
  {
   "cell_type": "code",
   "execution_count": null,
   "metadata": {
    "lines_to_next_cell": 2
   },
   "outputs": [],
   "source": [
    "hemCOSMIC <- load_cosmic_mutations(cosmic_mutations_path = \"hemCOSMIC.csv\")\n",
    "hemCOSMIC"
   ]
  },
  {
   "cell_type": "markdown",
   "metadata": {},
   "source": [
    "### Get flagged alleles\n",
    "\n",
    "Flagged alleles are alleles that appear at a high VAF in a significant number of samples within your cohort. These are very likely to be sequencing errors and should be interpreted with caution in variant calling results. However, if you are expecting recurrent mutations (e.g. Hematologic cancer associated mutations from COSMIC), then you can use the exclude_cosmic_mutations argument and its associated arguments to exclude them from the flagging process.\n",
    "\n",
    "Here, we will input the COSMIC mutations and ask get_flagged_alleles to ignore any mutations with a COSMIC frequency above 3. \n",
    "Additionally, we are setting the memory_saving function to FALSE in this case because we are only processing 40 samples.\n",
    "\n",
    "If you are processing > 400 samples on a 16gb RAM device or > 200 samples on a 8gb RAM device, we recommend setting memory_saving = TRUE. \n",
    "This will employ an alternative method that consumes less memory but takes approximately twice as long to run. "
   ]
  },
  {
   "cell_type": "code",
   "execution_count": null,
   "metadata": {
    "lines_to_next_cell": 0
   },
   "outputs": [],
   "source": [
    "flagged_alleles <- get_flagged_alleles(sample_names, sample_paths, exclude_cosmic_mutations = TRUE, \n",
    "                                       cosmic_mutations = hemCOSMIC, cosmic_mut_frequency = 3, memory_saving = FALSE)\n",
    "\n",
    "flagged_alleles\n"
   ]
  },
  {
   "cell_type": "markdown",
   "metadata": {},
   "source": []
  },
  {
   "cell_type": "markdown",
   "metadata": {},
   "source": [
    "### Custom Functions: getting COSMIC hotspots\n",
    "\n",
    "Since we are only interested in examining hematologic malignancy associated mutations in this analysis, I've included some custom functions to conduct mutations calling only within positions flanking +/- 15bp from a cosmic hotspot. Note that model generation is still conducted on all alleles at all positions.\n",
    "\n",
    "**This will be cleaned up later**"
   ]
  },
  {
   "cell_type": "code",
   "execution_count": null,
   "metadata": {},
   "outputs": [],
   "source": [
    "# GET COSMIC HOTSPOTS\n",
    "get_cosmic_hotspot <- function(cosmic_mutations, cosmic_mut_frequency = 10, flanking_seq = 15){\n",
    "  # filter by frequency\n",
    "  hotspot_vr <- cosmic_mutations[cosmic_mutations$hemCOSMIC_DC >= cosmic_mut_frequency]\n",
    "  # convert to GRanges to save space\n",
    "  hotspots <- GRanges(\n",
    "    seqnames = seqnames(hotspot_vr), \n",
    "    ranges = ranges(hotspot_vr))\n",
    "  # add relevant metadata\n",
    "  hotspots$gene  = hotspot_vr$Gene.refGene\n",
    "  hotspots$frequency = hotspot_vr$hemCOSMIC_DC\n",
    "  # expand to include positions +/- flanking_seq\n",
    "  hotspots = hotspots + flanking_seq  \n",
    "  return(hotspots)\n",
    "}\n",
    "\n",
    "# Function to only keep hotspots from sample\n",
    "only_hotspots <- function(samp, hotspots){\n",
    "  samp_hotspots <- samp[queryHits(findOverlaps(samp, hotspots))]\n",
    "  samp_hotspots$gene <- hotspots[subjectHits(findOverlaps(samp, hotspots))]$gene\n",
    "  samp_hotspots <- unique(samp_hotspots)\n",
    "  return(samp_hotspots)\n",
    "}\n",
    "\n",
    "# Function to do bonferroni correction on output p values\n",
    "pvalue_correction <- function(variant_calls, by_sample = TRUE){\n",
    "  \n",
    "  if(by_sample == TRUE){\n",
    "    # get number of p values generated for each sample\n",
    "    sample_counts <- table(sampleNames(variant_calls))\n",
    "    \n",
    "    # get corrected pvalues\n",
    "    variant_calls$corrected_pvalue <- variant_calls$model_Pvalue * as.numeric(sample_counts[as.character(sampleNames(variant_calls))])\n",
    "    variant_calls$corrected_pvalue <- ifelse(variant_calls$corrected_pvalue > 1, 1, variant_calls$corrected_pvalue)\n",
    "  } else {\n",
    "    # get corrected pvalues\n",
    "    variant_calls$corrected_pvalue <- variant_calls$model_Pvalue * length(variant_calls)\n",
    "    variant_calls$corrected_pvalue <- ifelse(variant_calls$corrected_pvalue > 1, 1, variant_calls$corrected_pvalue)\n",
    "  }\n",
    "  \n",
    "  return(variant_calls)\n",
    "}"
   ]
  },
  {
   "cell_type": "code",
   "execution_count": null,
   "metadata": {
    "lines_to_next_cell": 2
   },
   "outputs": [],
   "source": [
    "# Get COSMIC hotspots\n",
    "COSMIC_hotspots <- hemCOSMIC %>% get_cosmic_hotspot()\n",
    "\n",
    "COSMIC_hotspots"
   ]
  },
  {
   "cell_type": "markdown",
   "metadata": {},
   "source": [
    "# Generate Models and Call Variants\n",
    "\n",
    "I will be running this in parallel with the package DoParallel - using 4 cores to speed up the job. "
   ]
  },
  {
   "cell_type": "code",
   "execution_count": null,
   "metadata": {
    "lines_to_next_cell": 2
   },
   "outputs": [],
   "source": [
    "# start counting time\n",
    "total_ptm <- proc.time()\n",
    "\n",
    "# Make cluster and start\n",
    "cl <- makeCluster(4)\n",
    "registerDoParallel(cl)\n",
    " \n",
    "# initialize variant calls\n",
    "variant_calls <- VRangesList()\n",
    "\n",
    "\n",
    "# Try for all files\n",
    "for(i in 1:length(sample_paths)){\n",
    "  \n",
    "  # get sample name and path\n",
    "  samp_path <- sample_paths[i]\n",
    "  samp_name <- sample_names[i]\n",
    "  \n",
    "  print(samp_name)\n",
    "  \n",
    "  # get sample as VRanges and annotate with sequence context and MAF\n",
    "  samp <- load_as_VRanges(samp_name, samp_path) %>%\n",
    "    sequence_context() %>%\n",
    "    annotate_MAF(., MafDb.gnomADex.r2.1.hs37d5::MafDb.gnomADex.r2.1.hs37d5, genome = \"hg19\")\n",
    "  \n",
    "  # use sample to generate the error models\n",
    "  samp_models <- samp %>%\n",
    "    filter_model_input(., flagged_alleles, MAF_cutoff = 0.001, VAF_cutoff = 0.05, MAPQ_cutoff_ref = 59, MAPQ_cutoff_alt = 59,\n",
    "                       filter_cosmic_mutations = TRUE, cosmic_mutations = hemCOSMIC, cosmic_mut_frequency = 10) %>%\n",
    "    generate_all_models(., plots = FALSE)\n",
    "  \n",
    "  # call variants using error models, and aggregate together\n",
    "  variant_calls[[samp_name]] <- samp %>% \n",
    "    only_hotspots(., COSMIC_hotspots) %>% \n",
    "    call_all_variants(., samp_models)\n",
    "  \n",
    "  # cleanup\n",
    "  rm(samp_name, samp, samp_models)\n",
    "}\n",
    "\n",
    "\n",
    "# Unregister Cluster\n",
    "stopCluster(cl)\n",
    "rm(cl)\n",
    "registerDoSEQ()\n",
    "\n",
    "# Get total run time\n",
    "proc.time() - total_ptm"
   ]
  },
  {
   "cell_type": "markdown",
   "metadata": {},
   "source": [
    "The output is a vranges list object with the variant calls for each samples"
   ]
  },
  {
   "cell_type": "code",
   "execution_count": null,
   "metadata": {},
   "outputs": [],
   "source": [
    "# Output is in vranges list\n",
    "variant_calls"
   ]
  },
  {
   "cell_type": "markdown",
   "metadata": {},
   "source": [
    "We can unlist that vranges object, conduct the pvalue correction (bonferroni with all positions), and keep the significant calls. "
   ]
  },
  {
   "cell_type": "code",
   "execution_count": null,
   "metadata": {
    "lines_to_next_cell": 0
   },
   "outputs": [],
   "source": [
    "# unlist and correct pvalue (bonferroni)\n",
    "variant_calls_unlisted <- variant_calls %>% unlist() %>% pvalue_correction(., by_sample = FALSE)\n",
    "    # automatically if inputting list of mutations \n",
    "\n",
    "# show\n",
    "variant_significant <- variant_calls_unlisted[which(variant_calls_unlisted$corrected_pvalue < 0.05)]\n",
    "variant_significant"
   ]
  },
  {
   "cell_type": "markdown",
   "metadata": {},
   "source": [
    "\n"
   ]
  }
 ],
 "metadata": {
  "jupytext": {
   "main_language": "R",
   "text_representation": {
    "extension": ".Rmd",
    "format_name": "rmarkdown"
   }
  },
  "kernelspec": {
   "display_name": "R",
   "language": "R",
   "name": "ir"
  },
  "language_info": {
   "codemirror_mode": "r",
   "file_extension": ".r",
   "mimetype": "text/x-r-source",
   "name": "R",
   "pygments_lexer": "r",
   "version": "3.5.1"
  }
 },
 "nbformat": 4,
 "nbformat_minor": 2
}
